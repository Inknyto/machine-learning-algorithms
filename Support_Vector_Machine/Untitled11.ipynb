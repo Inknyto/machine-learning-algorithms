{
 "cells": [
  {
   "cell_type": "code",
   "execution_count": 1,
   "id": "a83c6cfe-d430-4bf6-be72-a7ba5454e5d7",
   "metadata": {},
   "outputs": [
    {
     "name": "stdout",
     "output_type": "stream",
     "text": [
      "                   ID_VENTE   CD_PRODUIT    DT_VENTE     ID_CLIENT  QTE_VENTE  PRIX_ACHAT  PRIX_VENTE\n",
      "0  CA-2014-AA10315140-41702  OFF-FA-2890  22/03/2023  AA-103151402          5       2.304        2.88\n"
     ]
    }
   ],
   "source": [
    "import pandas as pd\n",
    "\n",
    "# Charger les données CSV en spécifiant le délimiteur\n",
    "df = pd.read_csv('VenteCommerciale.csv', delimiter='|')\n",
    "\n",
    "# Afficher les données sous forme de tableau avec des colonnes alignées\n",
    "pd.set_option('display.max_columns', None)\n",
    "pd.set_option('display.expand_frame_repr', False)\n",
    "print(df.head(1))\n",
    "\n"
   ]
  },
  {
   "cell_type": "code",
   "execution_count": 2,
   "id": "124c8bbf-1725-4503-bb0c-d07d6aedea56",
   "metadata": {},
   "outputs": [
    {
     "name": "stdout",
     "output_type": "stream",
     "text": [
      "ID_VENTE       object\n",
      "CD_PRODUIT     object\n",
      "DT_VENTE       object\n",
      "ID_CLIENT      object\n",
      "QTE_VENTE       int64\n",
      "PRIX_ACHAT    float64\n",
      "PRIX_VENTE    float64\n",
      "dtype: object\n"
     ]
    }
   ],
   "source": [
    "print(df.dtypes)"
   ]
  },
  {
   "cell_type": "code",
   "execution_count": 3,
   "id": "86327c79-a852-414b-a68b-3809c66c38d6",
   "metadata": {},
   "outputs": [
    {
     "name": "stdout",
     "output_type": "stream",
     "text": [
      "ID_VENTE      629\n",
      "CD_PRODUIT    490\n",
      "DT_VENTE        1\n",
      "ID_CLIENT     589\n",
      "QTE_VENTE      14\n",
      "PRIX_ACHAT    478\n",
      "PRIX_VENTE    478\n",
      "dtype: int64\n"
     ]
    }
   ],
   "source": [
    "print(df.nunique())"
   ]
  },
  {
   "cell_type": "code",
   "execution_count": 4,
   "id": "5dc69bb8-831f-4eb0-9eb7-76c48b0a17d2",
   "metadata": {},
   "outputs": [
    {
     "name": "stdout",
     "output_type": "stream",
     "text": [
      "['22/03/2023']\n"
     ]
    }
   ],
   "source": [
    "print(df['DT_VENTE'].unique())"
   ]
  },
  {
   "cell_type": "code",
   "execution_count": 5,
   "id": "f77cd15d-a02c-4ce3-9def-af7a19f6dc3a",
   "metadata": {},
   "outputs": [
    {
     "name": "stdout",
     "output_type": "stream",
     "text": [
      "object\n"
     ]
    }
   ],
   "source": [
    "print(df['DT_VENTE'].dtype)\n"
   ]
  },
  {
   "cell_type": "code",
   "execution_count": 6,
   "id": "18807524-9e5d-42e7-97da-33a81303f8a5",
   "metadata": {},
   "outputs": [],
   "source": [
    "from sklearn.model_selection import train_test_split\n",
    "# Divisez vos données en ensembles d'entraînement (70-80 %) et de test (20-30 %)\n",
    "X = df.drop(columns=['QTE_VENTE'])  # Les caractéristiques, en excluant la variable cible QTE_VENTE\n",
    "y = df['QTE_VENTE']  # La variable cible QTE_VENTE\n",
    "\n",
    "X_train, X_test, y_train, y_test = train_test_split(X, y, test_size=0.2, random_state=42)\n",
    "\n",
    "# X_train et y_train sont vos données d'entraînement (70-80 % des données)\n",
    "# X_test et y_test sont vos données de test (20-30 % des données)"
   ]
  },
  {
   "cell_type": "code",
   "execution_count": 7,
   "id": "f0742cfd-da7a-455b-9ea7-7fcc37db3e13",
   "metadata": {},
   "outputs": [
    {
     "name": "stdout",
     "output_type": "stream",
     "text": [
      "                     ID_VENTE   CD_PRODUIT    DT_VENTE     ID_CLIENT  PRIX_ACHAT  PRIX_VENTE\n",
      "82     ID-2013-DL133307-41626  FUR-BO-4853  22/03/2023     DL-133307   100.46400    125.5800\n",
      "51   CA-2015-AG10330140-42361  OFF-BI-3732  22/03/2023  AG-103301404     1.51920      1.8990\n",
      "220   MX-2013-TS2134082-41566  FUR-CH-4532  22/03/2023    TS-2134082   152.27520    190.3440\n",
      "669   IN-2015-MC1784527-42249  TEC-PH-5267  22/03/2023    MC-1784527   437.09040    546.3630\n",
      "545   MX-2013-ED1388539-41545  FUR-TA-5059  22/03/2023    ED-1388539   136.82400    171.0300\n",
      "..                        ...          ...         ...           ...         ...         ...\n",
      "71    IN-2015-CA1231011-42172  TEC-MA-5016  22/03/2023    CA-1231011    63.90000     79.8750\n",
      "106  ID-2012-TS21160102-41207  FUR-CH-5442  22/03/2023   TS-21160102   272.97912    341.2239\n",
      "270   MX-2015-GT1475582-42157  FUR-TA-3346  22/03/2023    GT-1475582   362.83200    453.5400\n",
      "435  CA-2013-AH10465140-41276  OFF-AR-5294  22/03/2023  AH-104651402     2.35200      2.9400\n",
      "102   IN-2012-LR1703558-41195  TEC-MA-5548  22/03/2023    LR-1703558   165.60000    207.0000\n",
      "\n",
      "[560 rows x 6 columns]\n"
     ]
    }
   ],
   "source": [
    "print(X_train)"
   ]
  },
  {
   "cell_type": "code",
   "execution_count": 8,
   "id": "3720de57-9c25-4f30-bc9b-68f536ccaff9",
   "metadata": {},
   "outputs": [
    {
     "name": "stdout",
     "output_type": "stream",
     "text": [
      "                     ID_VENTE   CD_PRODUIT    DT_VENTE     ID_CLIENT  PRIX_ACHAT  PRIX_VENTE\n",
      "158  CA-2014-AA10375140-41831  OFF-ST-6157  22/03/2023  AA-103751404      8.3840      10.480\n",
      "500   IN-2015-KD1649578-42159  TEC-PH-5335  22/03/2023    KD-1649578     36.1792      45.224\n",
      "396  CA-2014-AC10450140-41905  OFF-BI-2935  22/03/2023  AC-104501408      0.4448       0.556\n",
      "155   ID-2014-KM1666059-41815  FUR-TA-3758  22/03/2023    KM-1666059    213.6720     267.090\n",
      "321   IT-2015-CA1196548-42195  TEC-MA-5012  22/03/2023    CA-1196548     20.3040      25.380\n",
      "..                        ...          ...         ...           ...         ...         ...\n",
      "24    SA-2015-KH6630110-42043  TEC-CO-3708  22/03/2023    KH-6630110    151.3200     189.150\n",
      "218  CA-2012-AG10390140-41017  OFF-PA-6597  22/03/2023  AG-103901408      4.1472       5.184\n",
      "431   IN-2012-TM2149059-41230  FUR-CH-5412  22/03/2023    TM-2149059     38.8872      48.609\n",
      "281   ZA-2012-PG8820146-40927  OFF-AR-3494  22/03/2023    PG-8820146      9.5520      11.940\n",
      "110   IN-2015-DV1304558-42329  OFF-ST-6263  22/03/2023    DV-1304558     49.0032      61.254\n",
      "\n",
      "[140 rows x 6 columns]\n"
     ]
    }
   ],
   "source": [
    "print(X_test)"
   ]
  },
  {
   "cell_type": "code",
   "execution_count": 9,
   "id": "d0e84058-47c6-44b0-954a-1c7349833eae",
   "metadata": {},
   "outputs": [
    {
     "name": "stdout",
     "output_type": "stream",
     "text": [
      "82     11\n",
      "51      7\n",
      "220     4\n",
      "669     6\n",
      "545     5\n",
      "       ..\n",
      "71     14\n",
      "106     6\n",
      "270     6\n",
      "435     2\n",
      "102     5\n",
      "Name: QTE_VENTE, Length: 560, dtype: int64\n"
     ]
    }
   ],
   "source": [
    "print(y_train)"
   ]
  },
  {
   "cell_type": "code",
   "execution_count": 10,
   "id": "f9c7041a-335c-4000-9aed-3e156719d330",
   "metadata": {},
   "outputs": [
    {
     "name": "stdout",
     "output_type": "stream",
     "text": [
      "158    3\n",
      "500    7\n",
      "396    5\n",
      "155    5\n",
      "321    2\n",
      "      ..\n",
      "24     5\n",
      "218    6\n",
      "431    5\n",
      "281    4\n",
      "110    4\n",
      "Name: QTE_VENTE, Length: 140, dtype: int64\n"
     ]
    }
   ],
   "source": [
    "print(y_test)"
   ]
  },
  {
   "cell_type": "code",
   "execution_count": 11,
   "id": "ba8ae5e0-88fd-4040-a199-7422f4707357",
   "metadata": {},
   "outputs": [
    {
     "name": "stdout",
     "output_type": "stream",
     "text": [
      "Pourcentage des données d'entraînement : 80.0%\n",
      "Pourcentage des données de test : 20.0%\n"
     ]
    }
   ],
   "source": [
    "pourcentage_train = (len(X_train) / len(X)) * 100\n",
    "pourcentage_test = (len(X_test) / len(X)) * 100\n",
    "print(f\"Pourcentage des données d'entraînement : {pourcentage_train}%\")\n",
    "print(f\"Pourcentage des données de test : {pourcentage_test}%\")"
   ]
  },
  {
   "cell_type": "code",
   "execution_count": 12,
   "id": "297d2c51-a8e7-48e0-b4b8-af7d436e7af8",
   "metadata": {},
   "outputs": [
    {
     "name": "stdout",
     "output_type": "stream",
     "text": [
      "Index(['ID_VENTE', 'CD_PRODUIT', 'DT_VENTE', 'ID_CLIENT', 'PRIX_ACHAT',\n",
      "       'PRIX_VENTE'],\n",
      "      dtype='object')\n"
     ]
    }
   ],
   "source": [
    "print(X_train.columns)\n"
   ]
  },
  {
   "cell_type": "code",
   "execution_count": 13,
   "id": "104f3719-7452-4af7-8a1d-17821ce92327",
   "metadata": {},
   "outputs": [],
   "source": [
    "X_train = X_train.drop(columns=['ID_VENTE', 'CD_PRODUIT', 'DT_VENTE', 'ID_CLIENT'])"
   ]
  },
  {
   "cell_type": "code",
   "execution_count": 14,
   "id": "2710ca5a-5ec4-4792-9243-6fbb3490c253",
   "metadata": {},
   "outputs": [],
   "source": [
    "X_test = X_test.drop(columns=['ID_VENTE', 'CD_PRODUIT', 'DT_VENTE', 'ID_CLIENT'])"
   ]
  },
  {
   "cell_type": "code",
   "execution_count": 15,
   "id": "2e48653d-af8b-419e-ba78-4450b06c1d6a",
   "metadata": {},
   "outputs": [
    {
     "ename": "NameError",
     "evalue": "name 'svm_regressor' is not defined",
     "output_type": "error",
     "traceback": [
      "\u001b[0;31m---------------------------------------------------------------------------\u001b[0m",
      "\u001b[0;31mNameError\u001b[0m                                 Traceback (most recent call last)",
      "Cell \u001b[0;32mIn[15], line 1\u001b[0m\n\u001b[0;32m----> 1\u001b[0m \u001b[43msvm_regressor\u001b[49m\u001b[38;5;241m.\u001b[39mfit(X_train, y_train)\n",
      "\u001b[0;31mNameError\u001b[0m: name 'svm_regressor' is not defined"
     ]
    }
   ],
   "source": [
    "svm_regressor.fit(X_train, y_train)"
   ]
  },
  {
   "cell_type": "code",
   "execution_count": null,
   "id": "30ac8cc9-5076-459b-8940-890e210fbec2",
   "metadata": {},
   "outputs": [],
   "source": [
    "y_pred = svm_regressor.predict(X_test)"
   ]
  },
  {
   "cell_type": "code",
   "execution_count": null,
   "id": "003b4d0d-2b8d-4eb6-af49-3d7b0ef5a3fb",
   "metadata": {},
   "outputs": [],
   "source": [
    "print(y_pred)"
   ]
  },
  {
   "cell_type": "code",
   "execution_count": null,
   "id": "51c095f5-40b4-4500-8b2c-ac8a90e5e940",
   "metadata": {},
   "outputs": [],
   "source": [
    "from sklearn.metrics import mean_squared_error\n",
    "import numpy as np\n",
    "\n",
    "rmse = np.sqrt(mean_squared_error(y_test, y_pred))\n",
    "print(f'RMSE: {rmse}')"
   ]
  },
  {
   "cell_type": "code",
   "execution_count": null,
   "id": "613136d1-a885-46ef-afbb-83952225b697",
   "metadata": {},
   "outputs": [],
   "source": [
    "from sklearn.metrics import mean_absolute_error\n",
    "\n",
    "mae = mean_absolute_error(y_test, y_pred)\n",
    "print(f'MAE: {mae}')\n"
   ]
  },
  {
   "cell_type": "code",
   "execution_count": null,
   "id": "c3f914d6-f3ad-48e3-aab0-18d8103f5a1c",
   "metadata": {},
   "outputs": [],
   "source": []
  }
 ],
 "metadata": {
  "kernelspec": {
   "display_name": "Python 3 (ipykernel)",
   "language": "python",
   "name": "python3"
  },
  "language_info": {
   "codemirror_mode": {
    "name": "ipython",
    "version": 3
   },
   "file_extension": ".py",
   "mimetype": "text/x-python",
   "name": "python",
   "nbconvert_exporter": "python",
   "pygments_lexer": "ipython3",
   "version": "3.10.4"
  }
 },
 "nbformat": 4,
 "nbformat_minor": 5
}
