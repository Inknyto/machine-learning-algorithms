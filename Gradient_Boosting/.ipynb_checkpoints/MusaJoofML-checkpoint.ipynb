{
 "cells": [
  {
   "cell_type": "code",
   "execution_count": 2,
   "id": "8061ac5e",
   "metadata": {},
   "outputs": [
    {
     "ename": "ModuleNotFoundError",
     "evalue": "No module named 'pandas'",
     "output_type": "error",
     "traceback": [
      "\u001b[0;31m---------------------------------------------------------------------------\u001b[0m",
      "\u001b[0;31mModuleNotFoundError\u001b[0m                       Traceback (most recent call last)",
      "\u001b[0;32m/tmp/ipykernel_6638/693816438.py\u001b[0m in \u001b[0;36m<module>\u001b[0;34m\u001b[0m\n\u001b[1;32m      2\u001b[0m \u001b[0;34m\u001b[0m\u001b[0m\n\u001b[1;32m      3\u001b[0m \u001b[0;31m#Bibliotheque de traitement de donnees\u001b[0m\u001b[0;34m\u001b[0m\u001b[0;34m\u001b[0m\u001b[0m\n\u001b[0;32m----> 4\u001b[0;31m \u001b[0;32mimport\u001b[0m \u001b[0mpandas\u001b[0m \u001b[0;32mas\u001b[0m \u001b[0mpd\u001b[0m\u001b[0;34m\u001b[0m\u001b[0;34m\u001b[0m\u001b[0m\n\u001b[0m\u001b[1;32m      5\u001b[0m \u001b[0;32mimport\u001b[0m \u001b[0mnumpy\u001b[0m \u001b[0;32mas\u001b[0m \u001b[0mnp\u001b[0m\u001b[0;34m\u001b[0m\u001b[0;34m\u001b[0m\u001b[0m\n\u001b[1;32m      6\u001b[0m \u001b[0;32mimport\u001b[0m \u001b[0mmath\u001b[0m\u001b[0;34m\u001b[0m\u001b[0;34m\u001b[0m\u001b[0m\n",
      "\u001b[0;31mModuleNotFoundError\u001b[0m: No module named 'pandas'"
     ]
    }
   ],
   "source": [
    "# Importation des bibliothèques nécessaires\n",
    "\n",
    "#Bibliotheque de traitement de donnees\n",
    "import pandas as pd\n",
    "import numpy as np\n",
    "import math\n",
    "\n",
    "# Bibliotheques de visualisation\n",
    "import seaborn as sns\n",
    "import matplotlib.pyplot as plt"
   ]
  },
  {
   "cell_type": "code",
   "execution_count": 1,
   "id": "d5d390f0",
   "metadata": {},
   "outputs": [
    {
     "ename": "NameError",
     "evalue": "name 'pd' is not defined",
     "output_type": "error",
     "traceback": [
      "\u001b[0;31m---------------------------------------------------------------------------\u001b[0m",
      "\u001b[0;31mNameError\u001b[0m                                 Traceback (most recent call last)",
      "Input \u001b[0;32mIn [1]\u001b[0m, in \u001b[0;36m<cell line: 2>\u001b[0;34m()\u001b[0m\n\u001b[1;32m      1\u001b[0m \u001b[38;5;66;03m# Lecture des données à partir d'un fichier CSV\u001b[39;00m\n\u001b[0;32m----> 2\u001b[0m df \u001b[38;5;241m=\u001b[39m \u001b[43mpd\u001b[49m\u001b[38;5;241m.\u001b[39mread_csv(\u001b[38;5;124mr\u001b[39m\u001b[38;5;124m'\u001b[39m\u001b[38;5;124mLocation_Data.csv\u001b[39m\u001b[38;5;124m'\u001b[39m, encoding\u001b[38;5;241m=\u001b[39m\u001b[38;5;124m'\u001b[39m\u001b[38;5;124mwindows-1252\u001b[39m\u001b[38;5;124m'\u001b[39m)\n",
      "\u001b[0;31mNameError\u001b[0m: name 'pd' is not defined"
     ]
    }
   ],
   "source": [
    "# Lecture des données à partir d'un fichier CSV\n",
    "df = pd.read_csv(r'Location_Data.csv', encoding='windows-1252')"
   ]
  },
  {
   "cell_type": "code",
   "execution_count": null,
   "id": "42a64ca8",
   "metadata": {},
   "outputs": [],
   "source": [
    "# affichage des premiers lignes du dataframe\n",
    "df.head()"
   ]
  },
  {
   "cell_type": "code",
   "execution_count": null,
   "id": "f2846f39",
   "metadata": {},
   "outputs": [],
   "source": [
    "# Statististiques sur les donnees\n",
    "df.describe()"
   ]
  },
  {
   "cell_type": "code",
   "execution_count": null,
   "id": "e8761849",
   "metadata": {},
   "outputs": [],
   "source": [
    "# Affichage du nombre de valeurs manquantes dans chaque colonne\n",
    "nombre_val_manq = df.isnull().sum()\n",
    "print(30*'*'+'  Valeurs mannquantes  '+20*'*')\n",
    "print(nombre_val_manq)"
   ]
  },
  {
   "cell_type": "code",
   "execution_count": null,
   "id": "0dd86cf3",
   "metadata": {},
   "outputs": [],
   "source": [
    "# Suppression des lignes ayant 0 comme valeur dans la colonne 'prix en MAD': valeurs a  predire\n",
    "df = df[df['prix en MAD'] != 0]"
   ]
  },
  {
   "cell_type": "code",
   "execution_count": null,
   "id": "ee38586a",
   "metadata": {},
   "outputs": [],
   "source": [
    "# Comptage des occurrences de chaque valeur dans la colonne 'numéro d'étage'\n",
    "print(30*'*'+' Etages '+20*'*')\n",
    "numEtg = df[\"numéro d'étage\"].value_counts()\n",
    "print(numEtg)"
   ]
  },
  {
   "cell_type": "code",
   "execution_count": null,
   "id": "9b102687",
   "metadata": {},
   "outputs": [],
   "source": [
    "# Encodage de l'attribut catégoriel 'emplacement' en utilisant des entiers\n",
    "l = list(df['emplacement'].unique())  #nombre de sites de location\n",
    "n = len(l) # Taille\n",
    "code = {} # dictionnaire\n",
    "for i in range(n):\n",
    "    code[l[i]] = i\n",
    "df['emplacementMap'] = df['emplacement'].map(code)"
   ]
  },
  {
   "cell_type": "code",
   "execution_count": null,
   "id": "878528ef",
   "metadata": {},
   "outputs": [],
   "source": [
    "# Suppression de la colonne 'emplacement'\n",
    "df2 = df.drop(columns=['emplacement'], axis=1)"
   ]
  },
  {
   "cell_type": "code",
   "execution_count": null,
   "id": "395693bc",
   "metadata": {},
   "outputs": [],
   "source": [
    "df2.head()"
   ]
  },
  {
   "cell_type": "code",
   "execution_count": null,
   "id": "233bc54b",
   "metadata": {},
   "outputs": [],
   "source": [
    "# Gestion des valeurs manquantes en utilisant l'imputation KNN\n",
    "from sklearn.impute import KNNImputer\n",
    "imputer = KNNImputer(n_neighbors=5)\n",
    "df2 = pd.DataFrame(imputer.fit_transform(df2), columns=df2.columns)\n",
    "df2[\"numéro d'étage\"] = df2[\"numéro d'étage\"].map(round)\n",
    "df2[\"nombre des pièces\"] = df2[\"nombre des pièces\"].map(round)\n",
    "df2[\"emplacementMap\"] = df2[\"emplacementMap\"].map(round)\n",
    "df2[\"nombre des chambres\"] = df2[\"nombre des chambres\"].map(round)\n",
    "df2[\"surface en m²\"] = df2[\"surface en m²\"].map(round)"
   ]
  },
  {
   "cell_type": "code",
   "execution_count": null,
   "id": "32a0029e",
   "metadata": {},
   "outputs": [],
   "source": [
    "# Affichage du nombre de valeurs manquantes dans chaque colonne du DataFrame nettoyé\n",
    "print(30*'*'+'  Valeurs manquantes  '+20*'*')\n",
    "print(df2.isnull().sum())"
   ]
  },
  {
   "cell_type": "code",
   "execution_count": null,
   "id": "0132106b",
   "metadata": {},
   "outputs": [],
   "source": [
    "# Affichage des statistiques descriptives des données\n",
    "print(30*'*'+'  Affichage des statistiques  '+20*'*')\n",
    "print(df.describe())\n",
    "# Affichage des cinq premières lignes du DataFrame\n",
    "print(30*'*'+' Premieres lignes du dataframe  '+20*'*')\n",
    "print(df.head())"
   ]
  },
  {
   "cell_type": "code",
   "execution_count": null,
   "id": "4f3b40cc",
   "metadata": {},
   "outputs": [],
   "source": [
    "# Encodage de l'attribut catégoriel 'emplacement' en utilisant des entiers\n",
    "l = list(df['emplacement'].unique())  #nombre de sites de location\n",
    "n = len(l) # Taille\n",
    "code = {}\n",
    "for i in range(n):\n",
    "    code[l[i]] = i\n",
    "df['emplacementMap'] = df['emplacement'].map(code)"
   ]
  },
  {
   "cell_type": "code",
   "execution_count": null,
   "id": "aceae253",
   "metadata": {},
   "outputs": [],
   "source": [
    "# Suppression de la colonne 'emplacement'\n",
    "df2 = df.drop(columns=['emplacement'], axis=1)"
   ]
  },
  {
   "cell_type": "code",
   "execution_count": null,
   "id": "7d274d50",
   "metadata": {},
   "outputs": [],
   "source": [
    "# Gestion des valeurs manquantes en utilisant l'imputation KNN\n",
    "from sklearn.impute import KNNImputer\n",
    "imputer = KNNImputer(n_neighbors=5)\n",
    "df2 = pd.DataFrame(imputer.fit_transform(df2), columns=df2.columns)\n",
    "df2[\"numéro d'étage\"] = df2[\"numéro d'étage\"].map(round)\n",
    "df2[\"nombre des pièces\"] = df2[\"nombre des pièces\"].map(round)\n",
    "df2[\"emplacementMap\"] = df2[\"emplacementMap\"].map(round)\n",
    "df2[\"nombre des chambres\"] = df2[\"nombre des chambres\"].map(round)\n",
    "df2[\"surface en m²\"] = df2[\"surface en m²\"].map(round)"
   ]
  },
  {
   "cell_type": "code",
   "execution_count": null,
   "id": "a8458208",
   "metadata": {},
   "outputs": [],
   "source": [
    "# Affichage du nombre de valeurs manquantes dans chaque colonne du DataFrame nettoyé\n",
    "print(30*'*'+'  Valeurs manquantes  '+20*'*')\n",
    "print(df2.isnull().sum())\n",
    "# Calcul de la matrice de corrélation entre les variables\n",
    "print(30*'*'+'  Matrice de correlation  '+20*'*')\n",
    "ax1 = sns.heatmap(df2.corr(), cbar=0, linewidths=2,vmax=1, vmin=0.5, square=True, cmap='Blues', annot=True)\n",
    "plt.show()"
   ]
  },
  {
   "cell_type": "code",
   "execution_count": null,
   "id": "d3be2f4d",
   "metadata": {},
   "outputs": [],
   "source": [
    "# Filtrage des données en fonction de certaines conditions\n",
    "df3 = df2[(df2['prix en MAD'] <= 30000) & (df2['prix en MAD'] >= 2000) &\n",
    "          (df2['surface en m²'] <= 325) & (df2['surface en m²'] >= 50) &\n",
    "          (df2['emplacementMap'] <= 50) & (df2['nombre des pièces'] <= 13) & (df2['nombre des pièces'] > 1) & (df2['numéro d\\'étage'] != 19) &\n",
    "          (df2['nombre des chambres'] > 1)]\n",
    "\n",
    "# Affichage du nombre de lignes dans le DataFrame filtré\n",
    "len(df3)"
   ]
  },
  {
   "cell_type": "code",
   "execution_count": null,
   "id": "7ede62f2",
   "metadata": {},
   "outputs": [],
   "source": [
    "# Visualisation des relations entre certaines variables et le prix\n",
    "sns.scatterplot(data=df3, x='surface en m²', y='prix en MAD')\n",
    "sns.scatterplot(data=df3, x='emplacementMap', y='prix en MAD')\n",
    "sns.scatterplot(data=df3, x='surface en m²', y='prix en MAD', hue='nombre des chambres')"
   ]
  },
  {
   "cell_type": "code",
   "execution_count": null,
   "id": "d80ff7cb",
   "metadata": {},
   "outputs": [],
   "source": [
    "# Création de boîtes à moustaches pour certaines variables catégorielles\n",
    "categories = ['nombre des pièces', 'nombre des chambres', 'numéro d\\'étage', 'emplacementMap']\n",
    "for col in categories:\n",
    "    fig = plt.figure(figsize=(14, 6))\n",
    "    ax = fig.gca()\n",
    "    df3.boxplot(column='prix en MAD', by=col, ax=ax)\n",
    "    ax.set_title('En fonction de ' + col)\n",
    "    ax.set_ylabel(\"prix en MAD\")\n",
    "plt.show()"
   ]
  },
  {
   "cell_type": "code",
   "execution_count": null,
   "id": "c8e84de0",
   "metadata": {},
   "outputs": [],
   "source": [
    "# Division des données en ensembles d'entraînement et de test\n",
    "from sklearn.model_selection import train_test_split\n",
    "X = df3[['surface en m²', 'nombre des pièces', 'nombre des chambres', 'numéro d\\'étage', 'emplacementMap']]\n",
    "Y = df3['prix en MAD']\n",
    "X_train, X_test, y_train, y_test = train_test_split(X, Y, test_size=0.30, random_state=0)\n",
    "print('Donnees d entrainement : %d lignes\\nDonnees de test: %d lignes' % (X_train.shape[0], X_test.shape[0]))"
   ]
  },
  {
   "cell_type": "code",
   "execution_count": null,
   "id": "7b3637f5",
   "metadata": {},
   "outputs": [],
   "source": [
    "#  erreur quadratique moyenne et score du modèle de régression linéaire\n",
    "from sklearn.metrics import mean_squared_error, r2_score\n",
    "# recherche sur la grille des degrés\n",
    "from sklearn.model_selection import GridSearchCV\n",
    "# Utilisation d'un modèle de Gradient Boosting\n",
    "from sklearn.ensemble import GradientBoostingRegressor\n",
    "from sklearn.metrics import make_scorer\n",
    "# Définition de la grille des hyperparamètres à explorer"
   ]
  },
  {
   "cell_type": "code",
   "execution_count": null,
   "id": "5343e8be",
   "metadata": {},
   "outputs": [],
   "source": [
    "params = {\n",
    " 'learning_rate': [0.1, 0.2 ,0.3, 1],\n",
    " 'n_estimators' : [50, 100, 150, 200]\n",
    " }\n",
    "\n",
    "# Création d'une instance de GradientBoostingRegressor\n",
    "alg=GradientBoostingRegressor()"
   ]
  },
  {
   "cell_type": "code",
   "execution_count": null,
   "id": "a4990ffe",
   "metadata": {},
   "outputs": [],
   "source": [
    "score = make_scorer(r2_score)\n",
    "print(score)"
   ]
  },
  {
   "cell_type": "code",
   "execution_count": null,
   "id": "b951bd2f",
   "metadata": {},
   "outputs": [],
   "source": [
    "gridsearch = GridSearchCV(alg, params, scoring=score, cv=3, return_train_score=True)\n",
    "\n",
    "# Recherche des meilleurs hyperparamètres en utilisant les données d'entraînement\n",
    "gridsearch.fit(X_train, y_train)\n",
    "\n",
    "# Le meilleur modèle est maintenant accessible via l'attribut best_estimator_\n",
    "model = gridsearch.best_estimator_\n",
    "bestparam = gridsearch.best_params_\n",
    "bestscore = gridsearch.best_score_\n",
    "print(\"************************\")\n",
    "print(model, bestparam, bestscore)\n",
    "print(\"************************\")"
   ]
  },
  {
   "cell_type": "code",
   "execution_count": null,
   "id": "7c690aa2",
   "metadata": {},
   "outputs": [],
   "source": [
    "# Utilisation du meilleur modèle pour faire des prédictions\n",
    "# Obtention des prédictions\n",
    "predictions = model.predict(X_test)\n",
    "print(predictions)\n",
    "# Affichage des métriques de performance\n",
    "variance = mean_squared_error(y_test, predictions)\n",
    "print(\"variance:\", variance)\n",
    "ecartType = np.sqrt(variance)\n",
    "print(\"ecartType:\", ecartType)\n",
    "r2 = r2_score(y_test, predictions)\n",
    "print(\"R2:\", r2)\n",
    "# Affichage du nuage de points entre les valeurs réelles et prédites\n",
    "plt.scatter(y_test, predictions)\n",
    "plt.xlabel('Labels Réels')\n",
    "plt.ylabel('Labels Prédits')\n",
    "z = np.polyfit(y_test, predictions, 1)\n",
    "p = np.poly1d(z)\n",
    "plt.plot(y_test, p(y_test), color='red')\n",
    "plt.show()"
   ]
  },
  {
   "cell_type": "code",
   "execution_count": null,
   "id": "9a6ced5c",
   "metadata": {},
   "outputs": [],
   "source": []
  },
  {
   "cell_type": "code",
   "execution_count": null,
   "id": "790b153a",
   "metadata": {},
   "outputs": [],
   "source": []
  }
 ],
 "metadata": {
  "kernelspec": {
   "display_name": "Python 3 (ipykernel)",
   "language": "python",
   "name": "python3"
  },
  "language_info": {
   "codemirror_mode": {
    "name": "ipython",
    "version": 3
   },
   "file_extension": ".py",
   "mimetype": "text/x-python",
   "name": "python",
   "nbconvert_exporter": "python",
   "pygments_lexer": "ipython3",
   "version": "3.10.4"
  }
 },
 "nbformat": 4,
 "nbformat_minor": 5
}
